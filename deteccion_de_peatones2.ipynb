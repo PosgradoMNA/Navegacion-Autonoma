{
  "cells": [
    {
      "cell_type": "code",
      "source": [
        "# Asegurarse de que se esté utilizando GPU\n",
        "import tensorflow as tf\n",
        "tf.test.gpu_device_name()\n",
        "\n",
        "# Importación de Librerías\n",
        "import matplotlib.image as mpimg\n",
        "import matplotlib.pyplot as plt\n",
        "import seaborn as sns\n",
        "import cv2\n",
        "from xml.etree import ElementTree\n",
        "import os\n",
        "from sklearn.metrics import accuracy_score, confusion_matrix, classification_report\n",
        "from skimage.feature import hog\n",
        "import numpy as np"
      ],
      "metadata": {
        "id": "6VfCF0n-aUeM"
      },
      "execution_count": 1,
      "outputs": []
    },
    {
      "cell_type": "code",
      "source": [
        "# Cargar el archivo .json con el token de Kaggle y utilizar la API de Kaggle para descargar el archivo .zip del dataset\n",
        "from google.colab import files\n",
        "files.upload()\n",
        "\n",
        "# Crear el directorio .kaggle y mover el archivo kaggle.json allí\n",
        "!mkdir -p ~/.kaggle\n",
        "!mv kaggle.json ~/.kaggle/\n",
        "!chmod 600 ~/.kaggle/kaggle.json\n",
        "\n",
        "# Instalar la API de Kaggle\n",
        "!pip install kaggle\n",
        "\n",
        "# Descargar el archivo del conjunto de datos de Kaggle\n",
        "!kaggle datasets download -d karthika95/pedestrian-detection --unzip -p /content/pedestrian_dataset"
      ],
      "metadata": {
        "id": "kH5Hpqc_aXRW"
      },
      "execution_count": null,
      "outputs": []
    },
    {
      "cell_type": "code",
      "source": [
        "# Se definen los nombres de las clases\n",
        "class_names = ['person', 'person-like']\n",
        "class_names_label = {name: i for i, name in enumerate(class_names)}\n",
        "\n",
        "# Se definen los parámetros de la imagen\n",
        "n_classes = 2\n",
        "size = (200, 200)"
      ],
      "metadata": {
        "id": "sj6rsLV6ab65"
      },
      "execution_count": 3,
      "outputs": []
    },
    {
      "cell_type": "code",
      "source": [
        "# Función para cargar y procesar las imágenes y etiquetas desde los directorios específicos para conjuntos de datos de entrenamiento, prueba y validación\n",
        "def load_data():\n",
        "    datasets = ['Train/Train', 'Test/Test', 'Val/Val']\n",
        "    output = []\n",
        "\n",
        "    for dataset in datasets:\n",
        "        imags = []\n",
        "        labels = []\n",
        "        directoryA = \"/content/pedestrian_dataset/\" + dataset + \"/Annotations\"\n",
        "        directoryIMG = \"/content/pedestrian_dataset/\" + dataset + \"/JPEGImages/\"\n",
        "        file = os.listdir(directoryA)\n",
        "        img = os.listdir(directoryIMG)\n",
        "        file.sort()\n",
        "        img.sort()\n",
        "\n",
        "        i = 0\n",
        "        for xml in file:\n",
        "            xmlf = os.path.join(directoryA, xml)\n",
        "            dom = ElementTree.parse(xmlf)\n",
        "            vb = dom.findall('object')\n",
        "            label = vb[0].find('name').text\n",
        "            labels.append(class_names_label[label])\n",
        "\n",
        "            img_path = directoryIMG + img[i]\n",
        "            curr_img = cv2.imread(img_path)\n",
        "            curr_img = cv2.resize(curr_img, size)\n",
        "            imags.append(curr_img)\n",
        "            i += 1\n",
        "\n",
        "        imags = np.array(imags, dtype='float32')\n",
        "        imags = imags / 255\n",
        "\n",
        "        labels = np.array(labels, dtype='int32')\n",
        "        output.append((imags, labels))\n",
        "    return output\n"
      ],
      "metadata": {
        "id": "IWPeqy80aes5"
      },
      "execution_count": 4,
      "outputs": []
    },
    {
      "cell_type": "code",
      "source": [
        "(train_images, train_labels), (test_images, test_labels), (val_images, val_labels) = load_data()"
      ],
      "metadata": {
        "id": "F_PGjUnJahc4"
      },
      "execution_count": 5,
      "outputs": []
    },
    {
      "cell_type": "code",
      "source": [
        "# Visualización de algunas imágenes\n",
        "plt.figure(figsize=(20, 20))\n",
        "for n, i in enumerate(list(np.random.randint(0, len(train_images), 36))):\n",
        "    plt.subplot(6, 6, n+1)\n",
        "    plt.imshow(train_images[i])\n",
        "    plt.title(class_names[train_labels[i]])\n",
        "    plt.axis('off')\n",
        "plt.show()"
      ],
      "metadata": {
        "id": "nwRQZLGSakHu"
      },
      "execution_count": null,
      "outputs": []
    },
    {
      "cell_type": "code",
      "source": [
        "# Extracción de HOG features\n",
        "def extract_hog_features(images):\n",
        "    hog_features_accum = []\n",
        "    for img in images:\n",
        "        img_gray = cv2.cvtColor(img, cv2.COLOR_BGR2GRAY)\n",
        "        features, hog_img = hog(img_gray,\n",
        "                                orientations=12,\n",
        "                                pixels_per_cell=(16, 16),\n",
        "                                cells_per_block=(2, 2),\n",
        "                                transform_sqrt=True,\n",
        "                                visualize=True,\n",
        "                                feature_vector=True)\n",
        "        hog_features_accum.append(features)\n",
        "    return np.vstack(hog_features_accum).astype(np.float64)"
      ],
      "metadata": {
        "id": "NFEAOV5Eam1F"
      },
      "execution_count": 82,
      "outputs": []
    },
    {
      "cell_type": "code",
      "source": [
        "train_features = extract_hog_features(train_images)\n",
        "test_features = extract_hog_features(test_images)\n",
        "val_features = extract_hog_features(val_images)"
      ],
      "metadata": {
        "id": "vSHRStmyasyZ"
      },
      "execution_count": 83,
      "outputs": []
    },
    {
      "cell_type": "code",
      "source": [
        "print(\"Shape de train_features:\", train_features.shape)\n",
        "print(\"Shape de train_labels:\", train_labels.shape)"
      ],
      "metadata": {
        "colab": {
          "base_uri": "https://localhost:8080/"
        },
        "id": "hL6OBBqIavIz",
        "outputId": "9e9aa0df-8635-4638-c2b3-f4345a0a3a49"
      },
      "execution_count": 84,
      "outputs": [
        {
          "output_type": "stream",
          "name": "stdout",
          "text": [
            "Shape de train_features: (944, 5808)\n",
            "Shape de train_labels: (944,)\n"
          ]
        }
      ]
    },
    {
      "cell_type": "code",
      "source": [
        "# Normalización de los datos\n",
        "from sklearn.preprocessing import MinMaxScaler\n",
        "\n",
        "scaler = MinMaxScaler()\n",
        "train_features = scaler.fit_transform(train_features)\n",
        "test_features = scaler.transform(test_features)\n",
        "val_features = scaler.transform(val_features)"
      ],
      "metadata": {
        "id": "4RTBKAlgavoF"
      },
      "execution_count": 85,
      "outputs": []
    },
    {
      "cell_type": "code",
      "source": [
        "# Creación del modelo de red neuronal\n",
        "from tensorflow.keras.models import Sequential\n",
        "from tensorflow.keras.layers import Dense, Dropout"
      ],
      "metadata": {
        "id": "hP6Y4Bkyayba"
      },
      "execution_count": 86,
      "outputs": []
    },
    {
      "cell_type": "code",
      "source": [
        "model = Sequential()\n",
        "#model.add(Dense(units=512, activation='relu', input_dim=train_features.shape[1]))\n",
        "#model.add(Dropout(0.5))\n",
        "model.add(Dense(units=256, activation='relu', input_dim=train_features.shape[1]))\n",
        "model.add(Dropout(0.5))\n",
        "model.add(Dense(units=128, activation='relu'))\n",
        "model.add(Dropout(0.5))\n",
        "model.add(Dense(units=64, activation='relu'))\n",
        "model.add(Dense(units=1, activation='sigmoid'))"
      ],
      "metadata": {
        "id": "BBAN2_Ula3Qt"
      },
      "execution_count": 118,
      "outputs": []
    },
    {
      "cell_type": "code",
      "source": [
        "model.compile(optimizer='Adadelta',\n",
        "              loss='binary_crossentropy', metrics=['accuracy'])"
      ],
      "metadata": {
        "id": "GbPdpHELa41K"
      },
      "execution_count": 119,
      "outputs": []
    },
    {
      "cell_type": "code",
      "source": [
        "# Entrenamiento del modelo\n",
        "history = model.fit(train_features, train_labels, validation_data=(val_features, val_labels), epochs=22, batch_size=32, verbose=2)"
      ],
      "metadata": {
        "colab": {
          "base_uri": "https://localhost:8080/"
        },
        "id": "GHJGb5aNa7NH",
        "outputId": "7425fe29-a826-4937-b0df-a3bfef2a339b"
      },
      "execution_count": 120,
      "outputs": [
        {
          "output_type": "stream",
          "name": "stdout",
          "text": [
            "Epoch 1/22\n",
            "30/30 - 2s - loss: 0.7355 - accuracy: 0.4725 - val_loss: 0.6899 - val_accuracy: 0.5625 - 2s/epoch - 78ms/step\n",
            "Epoch 2/22\n",
            "30/30 - 0s - loss: 0.7172 - accuracy: 0.5064 - val_loss: 0.6894 - val_accuracy: 0.5500 - 152ms/epoch - 5ms/step\n",
            "Epoch 3/22\n",
            "30/30 - 0s - loss: 0.7032 - accuracy: 0.5201 - val_loss: 0.6890 - val_accuracy: 0.5375 - 149ms/epoch - 5ms/step\n",
            "Epoch 4/22\n",
            "30/30 - 0s - loss: 0.7153 - accuracy: 0.5032 - val_loss: 0.6887 - val_accuracy: 0.5562 - 158ms/epoch - 5ms/step\n",
            "Epoch 5/22\n",
            "30/30 - 0s - loss: 0.7119 - accuracy: 0.5000 - val_loss: 0.6887 - val_accuracy: 0.5625 - 147ms/epoch - 5ms/step\n",
            "Epoch 6/22\n",
            "30/30 - 0s - loss: 0.7274 - accuracy: 0.5042 - val_loss: 0.6886 - val_accuracy: 0.5562 - 158ms/epoch - 5ms/step\n",
            "Epoch 7/22\n",
            "30/30 - 0s - loss: 0.7108 - accuracy: 0.5275 - val_loss: 0.6884 - val_accuracy: 0.5500 - 161ms/epoch - 5ms/step\n",
            "Epoch 8/22\n",
            "30/30 - 0s - loss: 0.6935 - accuracy: 0.5487 - val_loss: 0.6885 - val_accuracy: 0.5375 - 158ms/epoch - 5ms/step\n",
            "Epoch 9/22\n",
            "30/30 - 0s - loss: 0.7081 - accuracy: 0.5169 - val_loss: 0.6886 - val_accuracy: 0.5375 - 145ms/epoch - 5ms/step\n",
            "Epoch 10/22\n",
            "30/30 - 0s - loss: 0.7062 - accuracy: 0.5117 - val_loss: 0.6884 - val_accuracy: 0.5437 - 152ms/epoch - 5ms/step\n",
            "Epoch 11/22\n",
            "30/30 - 0s - loss: 0.6967 - accuracy: 0.5244 - val_loss: 0.6884 - val_accuracy: 0.5375 - 158ms/epoch - 5ms/step\n",
            "Epoch 12/22\n",
            "30/30 - 0s - loss: 0.6973 - accuracy: 0.5456 - val_loss: 0.6886 - val_accuracy: 0.5312 - 146ms/epoch - 5ms/step\n",
            "Epoch 13/22\n",
            "30/30 - 0s - loss: 0.6979 - accuracy: 0.5646 - val_loss: 0.6888 - val_accuracy: 0.5250 - 145ms/epoch - 5ms/step\n",
            "Epoch 14/22\n",
            "30/30 - 0s - loss: 0.7033 - accuracy: 0.5275 - val_loss: 0.6888 - val_accuracy: 0.5250 - 162ms/epoch - 5ms/step\n",
            "Epoch 15/22\n",
            "30/30 - 0s - loss: 0.7001 - accuracy: 0.5530 - val_loss: 0.6888 - val_accuracy: 0.5312 - 151ms/epoch - 5ms/step\n",
            "Epoch 16/22\n",
            "30/30 - 0s - loss: 0.7098 - accuracy: 0.5159 - val_loss: 0.6888 - val_accuracy: 0.5375 - 158ms/epoch - 5ms/step\n",
            "Epoch 17/22\n",
            "30/30 - 0s - loss: 0.6963 - accuracy: 0.5530 - val_loss: 0.6889 - val_accuracy: 0.5375 - 151ms/epoch - 5ms/step\n",
            "Epoch 18/22\n",
            "30/30 - 0s - loss: 0.6924 - accuracy: 0.5540 - val_loss: 0.6890 - val_accuracy: 0.5375 - 161ms/epoch - 5ms/step\n",
            "Epoch 19/22\n",
            "30/30 - 0s - loss: 0.6918 - accuracy: 0.5477 - val_loss: 0.6890 - val_accuracy: 0.5375 - 146ms/epoch - 5ms/step\n",
            "Epoch 20/22\n",
            "30/30 - 0s - loss: 0.6936 - accuracy: 0.5403 - val_loss: 0.6891 - val_accuracy: 0.5375 - 152ms/epoch - 5ms/step\n",
            "Epoch 21/22\n",
            "30/30 - 0s - loss: 0.6990 - accuracy: 0.5339 - val_loss: 0.6889 - val_accuracy: 0.5375 - 159ms/epoch - 5ms/step\n",
            "Epoch 22/22\n",
            "30/30 - 0s - loss: 0.6938 - accuracy: 0.5339 - val_loss: 0.6889 - val_accuracy: 0.5375 - 170ms/epoch - 6ms/step\n"
          ]
        }
      ]
    },
    {
      "cell_type": "code",
      "source": [
        "# Evaluación del modelo en el conjunto de prueba\n",
        "test_loss, test_acc = model.evaluate(test_features, test_labels, verbose=2)\n",
        "print(\"Test Accuracy: \", test_acc)"
      ],
      "metadata": {
        "colab": {
          "base_uri": "https://localhost:8080/"
        },
        "id": "e01kgojna_pG",
        "outputId": "802b7bdd-71f6-48a7-c724-77db47b5c137"
      },
      "execution_count": 121,
      "outputs": [
        {
          "output_type": "stream",
          "name": "stdout",
          "text": [
            "8/8 - 0s - loss: 0.6658 - accuracy: 0.6000 - 162ms/epoch - 20ms/step\n",
            "Test Accuracy:  0.6000000238418579\n"
          ]
        }
      ]
    },
    {
      "cell_type": "code",
      "source": [
        "# Predicción de etiquetas del conjunto de datos de prueba\n",
        "test_predictions = (model.predict(test_features) > 0.5).astype(\"int32\")"
      ],
      "metadata": {
        "colab": {
          "base_uri": "https://localhost:8080/"
        },
        "id": "eJxtSvg7bCHi",
        "outputId": "f63912b1-5b3d-4389-ef05-d3f95d875341"
      },
      "execution_count": 16,
      "outputs": [
        {
          "output_type": "stream",
          "name": "stdout",
          "text": [
            "8/8 [==============================] - 0s 3ms/step\n"
          ]
        }
      ]
    },
    {
      "cell_type": "code",
      "source": [
        "# Cálculo de la matriz de confusión y clasificación\n",
        "conf_matrix = confusion_matrix(test_labels, test_predictions)\n",
        "print(classification_report(test_labels, test_predictions))"
      ],
      "metadata": {
        "colab": {
          "base_uri": "https://localhost:8080/"
        },
        "id": "eHftnhsVbEOc",
        "outputId": "65320767-e8ec-47dd-f8c9-5cd6e0d5bb1e"
      },
      "execution_count": 17,
      "outputs": [
        {
          "output_type": "stream",
          "name": "stdout",
          "text": [
            "              precision    recall  f1-score   support\n",
            "\n",
            "           0       0.71      0.82      0.76       136\n",
            "           1       0.68      0.54      0.60        99\n",
            "\n",
            "    accuracy                           0.70       235\n",
            "   macro avg       0.69      0.68      0.68       235\n",
            "weighted avg       0.70      0.70      0.69       235\n",
            "\n"
          ]
        }
      ]
    },
    {
      "cell_type": "code",
      "source": [
        "# Visualización de la matriz de confusión\n",
        "plt.figure(figsize=(8, 6))\n",
        "sns.heatmap(conf_matrix, annot=True, cmap='Blues', fmt='g')\n",
        "plt.title('Matriz de Confusión')\n",
        "plt.xlabel('Etiquetas Predichas')\n",
        "plt.ylabel('Etiquetas Verdaderas')\n",
        "plt.show()"
      ],
      "metadata": {
        "colab": {
          "base_uri": "https://localhost:8080/",
          "height": 564
        },
        "id": "kPZEBmuzbGWe",
        "outputId": "8ba41fab-1fd2-472b-eef4-4a12ee9b73cd"
      },
      "execution_count": 18,
      "outputs": [
        {
          "output_type": "display_data",
          "data": {
            "text/plain": [
              "<Figure size 800x600 with 2 Axes>"
            ],
            "image/png": "[encoded data removed]"
          },
          "metadata": {}
        }
      ]
    }
  ],
  "metadata": {
    "colab": {
      "provenance": [],
      "gpuType": "T4"
    },
    "kernelspec": {
      "display_name": "Python 3",
      "name": "python3"
    },
    "language_info": {
      "codemirror_mode": {
        "name": "ipython",
        "version": 3
      },
      "file_extension": ".py",
      "mimetype": "text/x-python",
      "name": "python",
      "nbconvert_exporter": "python",
      "pygments_lexer": "ipython3",
      "version": "3.9.13"
    },
    "accelerator": "GPU"
  },
  "nbformat": 4,
  "nbformat_minor": 0
}